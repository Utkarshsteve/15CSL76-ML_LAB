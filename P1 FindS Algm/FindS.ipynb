{
 "cells": [
  {
   "cell_type": "code",
   "execution_count": 4,
   "metadata": {},
   "outputs": [
    {
     "name": "stdout",
     "output_type": "stream",
     "text": [
      "6\n",
      "['sunny', 'warm', 'normal', 'strong', 'warm', 'same']\n",
      "\n",
      "Maximally specific hypothesis is  ['sunny', 'warm', '?', 'strong', '?', '?']\n"
     ]
    }
   ],
   "source": [
    "import csv\n",
    "a=[]\n",
    "with open('enjoySport.csv') as trainData:\n",
    "    for row in csv.reader(trainData):\n",
    "        a.append(row)\n",
    "        \n",
    "n=len(a[0])-1\n",
    "print(n)\n",
    "S=['0']*n\n",
    "\n",
    "S=a[0][:-1]\n",
    "print(S)\n",
    "for i in range(len(a)):\n",
    "    if a[i][n]==\"yes\":\n",
    "        for j in range(n):\n",
    "            if a[i][j]!=S[j]:\n",
    "                S[j]='?'\n",
    "print(\"\\nMaximally specific hypothesis is \", S )\n",
    "        "
   ]
  },
  {
   "cell_type": "code",
   "execution_count": null,
   "metadata": {},
   "outputs": [],
   "source": []
  }
 ],
 "metadata": {
  "kernelspec": {
   "display_name": "Python 3",
   "language": "python",
   "name": "python3"
  },
  "language_info": {
   "codemirror_mode": {
    "name": "ipython",
    "version": 3
   },
   "file_extension": ".py",
   "mimetype": "text/x-python",
   "name": "python",
   "nbconvert_exporter": "python",
   "pygments_lexer": "ipython3",
   "version": "3.7.2"
  }
 },
 "nbformat": 4,
 "nbformat_minor": 2
}
